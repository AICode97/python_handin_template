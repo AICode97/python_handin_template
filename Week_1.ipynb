{
 "cells": [
  {
   "cell_type": "markdown",
   "metadata": {},
   "source": [
    "# Week 1 handin"
   ]
  },
  {
   "cell_type": "markdown",
   "metadata": {},
   "source": [
    "## 01 Assignment\n",
    "Here is the text for the assignment linked to"
   ]
  },
  {
   "cell_type": "markdown",
   "metadata": {},
   "source": [
    "## 02 Status\n",
    "Here is a status on the handin. How far you got. What is implemented and what is not"
   ]
  },
  {
   "cell_type": "markdown",
   "metadata": {},
   "source": [
    "## 03 Solution part 1"
   ]
  },
  {
   "cell_type": "code",
   "execution_count": 8,
   "metadata": {},
   "outputs": [
    {
     "output_type": "execute_result",
     "data": {
      "text/plain": [
       "['Hanne', 'Hans', 'Henning']"
      ]
     },
     "metadata": {},
     "execution_count": 8
    }
   ],
   "source": [
    "named_list = [\"Hanne\",\"Frank\",\"Hans\",\"Henning\",\"Kenneth\"]\n",
    "letters = [\"H\"]\n",
    "sort_names = [names for names in named_list if(names[0] in letters)]\n",
    "sort_names"
   ]
  },
  {
   "cell_type": "code",
   "execution_count": 9,
   "metadata": {},
   "outputs": [
    {
     "output_type": "execute_result",
     "data": {
      "text/plain": [
       "[1,\n",
       " 4,\n",
       " 7,\n",
       " 10,\n",
       " 13,\n",
       " 16,\n",
       " 19,\n",
       " 22,\n",
       " 25,\n",
       " 28,\n",
       " 31,\n",
       " 34,\n",
       " 37,\n",
       " 40,\n",
       " 43,\n",
       " 46,\n",
       " 49,\n",
       " 52,\n",
       " 55,\n",
       " 58,\n",
       " 61,\n",
       " 64,\n",
       " 67,\n",
       " 70,\n",
       " 73,\n",
       " 76,\n",
       " 79,\n",
       " 82,\n",
       " 85,\n",
       " 88,\n",
       " 91,\n",
       " 94,\n",
       " 97,\n",
       " 100]"
      ]
     },
     "metadata": {},
     "execution_count": 9
    }
   ],
   "source": [
    "numbered_list = list(range(1, 101, 3))\n",
    "numbered_list"
   ]
  },
  {
   "cell_type": "code",
   "execution_count": 10,
   "metadata": {},
   "outputs": [
    {
     "output_type": "stream",
     "name": "stdout",
     "text": [
      "[4, 5, 8, 6]\n['Lars', 'Artem', 'Valentin', 'Stefan']\n((4, 'Lars'), (5, 'Artem'), (8, 'Valentin'), (6, 'Stefan'))\n"
     ]
    }
   ],
   "source": [
    "def convert(list): \n",
    "    return tuple(list) \n",
    "\n",
    "names = [\"Lars\", \"Artem\", \"Valentin\", \"Stefan\"] \n",
    "variable = []\n",
    "for word in names: variable.append(len(word))\n",
    "\n",
    "print(variable)\n",
    "print(names)\n",
    "\n",
    "otherList = zip(variable, names)\n",
    "\n",
    "print(convert(otherList))"
   ]
  },
  {
   "cell_type": "code",
   "execution_count": 11,
   "metadata": {},
   "outputs": [
    {
     "output_type": "execute_result",
     "data": {
      "text/plain": [
       "[23, 17]"
      ]
     },
     "metadata": {},
     "execution_count": 11
    }
   ],
   "source": [
    "str = \"Jeg er 23 år gammel, men min søster er 17 år yngre\"\n",
    "[int(s) for s in str.split() if s.isdigit()]"
   ]
  },
  {
   "cell_type": "code",
   "execution_count": 12,
   "metadata": {},
   "outputs": [
    {
     "output_type": "execute_result",
     "data": {
      "text/plain": [
       "['11',\n",
       " '12',\n",
       " '13',\n",
       " '14',\n",
       " '15',\n",
       " '16',\n",
       " '21',\n",
       " '22',\n",
       " '23',\n",
       " '24',\n",
       " '25',\n",
       " '26',\n",
       " '31',\n",
       " '32',\n",
       " '33',\n",
       " '34',\n",
       " '35',\n",
       " '36',\n",
       " '41',\n",
       " '42',\n",
       " '43',\n",
       " '44',\n",
       " '45',\n",
       " '46',\n",
       " '51',\n",
       " '52',\n",
       " '53',\n",
       " '54',\n",
       " '55',\n",
       " '56',\n",
       " '61',\n",
       " '62',\n",
       " '63',\n",
       " '64',\n",
       " '65',\n",
       " '66']"
      ]
     },
     "metadata": {},
     "execution_count": 12
    }
   ],
   "source": [
    "dice1 = [\"1\",\"2\",\"3\",\"4\",\"5\",\"6\"]\n",
    "dice2 = [\"1\",\"2\",\"3\",\"4\",\"5\",\"6\"]\n",
    "\n",
    "combo = [d1 + d2 for d1 in dice1 for d2 in dice2]\n",
    "combo"
   ]
  },
  {
   "cell_type": "markdown",
   "metadata": {},
   "source": [
    "## 04 Solution part 2"
   ]
  },
  {
   "cell_type": "code",
   "execution_count": 13,
   "metadata": {},
   "outputs": [
    {
     "output_type": "stream",
     "name": "stdout",
     "text": [
      "{21: 'The sith strikes back', 14: 'Barbie and Ken', 10: 'James bond'}\n"
     ]
    }
   ],
   "source": [
    "pairs = [\"The sith strikes back\",\"Barbie and Ken\", \"James bond\"] \n",
    "variable = []\n",
    "for word in pairs: variable.append(len(word))\n",
    "\n",
    "otherList = dict(zip(variable, pairs))\n",
    "\n",
    "print(otherList)"
   ]
  },
  {
   "cell_type": "code",
   "execution_count": 14,
   "metadata": {},
   "outputs": [
    {
     "output_type": "stream",
     "name": "stdout",
     "text": [
      "{3.0: 9, 6.0: 36, 5.0: 25, 25.80697580112788: 666, 18.24828759089466: 333}\n"
     ]
    }
   ],
   "source": [
    "import math\n",
    "\n",
    "numbers=[9,36,25,666,333]\n",
    "rootedNumber = []\n",
    "\n",
    "for value in numbers: rootedNumber.append(math.sqrt(value))    \n",
    "    \n",
    "numberList = dict(zip(rootedNumber, numbers))\n",
    "\n",
    "print(numberList)"
   ]
  },
  {
   "cell_type": "code",
   "execution_count": null,
   "metadata": {},
   "outputs": [],
   "source": []
  }
 ],
 "metadata": {
  "kernelspec": {
   "display_name": "Python 3",
   "language": "python",
   "name": "python3"
  },
  "language_info": {
   "codemirror_mode": {
    "name": "ipython",
    "version": 3
   },
   "file_extension": ".py",
   "mimetype": "text/x-python",
   "name": "python",
   "nbconvert_exporter": "python",
   "pygments_lexer": "ipython3",
   "version": "3.8.5-final"
  }
 },
 "nbformat": 4,
 "nbformat_minor": 4
}